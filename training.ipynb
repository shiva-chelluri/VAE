{
 "cells": [
  {
   "metadata": {},
   "cell_type": "markdown",
   "source": [
    "# Importing Files and Data\n",
    "## Name"
   ],
   "id": "8b8615c56aaa3dc9"
  },
  {
   "metadata": {
    "ExecuteTime": {
     "end_time": "2025-06-17T13:16:34.891271Z",
     "start_time": "2025-06-17T13:16:34.124859Z"
    }
   },
   "cell_type": "code",
   "source": [
    "import torch\n",
    "\n",
    "# importing libraries and files\n",
    "from VAE import VAE, train, Data\n",
    "import pandas as pd\n",
    "from torch.utils.data import DataLoader\n",
    "\n",
    "# setting paths\n",
    "FILE_PATH = \"C:/Users/sbc13/OneDrive - University of Warwick/RAE/Data/DS-Seminars/Assignment/embeddings.parquet\"\n",
    "columns = [f'name_{x}' for x in range(1, 385)]\n",
    "device = \"cuda\" if torch.cuda.is_available() else \"cpu\"\n",
    "\n",
    "# loading dataset\n",
    "data = Data(pd.read_parquet(path=FILE_PATH, columns=columns, engine=\"pyarrow\"))\n",
    "\n",
    "# making loader\n",
    "loader = DataLoader(data, batch_size=64, shuffle=True)"
   ],
   "id": "731ac5f958aae101",
   "outputs": [],
   "execution_count": 18
  },
  {
   "metadata": {
    "ExecuteTime": {
     "end_time": "2025-06-17T13:17:44.053989Z",
     "start_time": "2025-06-17T13:16:36.867625Z"
    }
   },
   "cell_type": "code",
   "source": [
    "vae = VAE(input_size=384, latent_dims=48).to(device)\n",
    "vae = train(vae, loader, device, epochs = 50)"
   ],
   "id": "a44dfec311fad26c",
   "outputs": [
    {
     "name": "stdout",
     "output_type": "stream",
     "text": [
      "Epoch [1/50], Average Loss: 0.6925\n",
      "Epoch [2/50], Average Loss: 0.6636\n"
     ]
    },
    {
     "ename": "KeyboardInterrupt",
     "evalue": "",
     "output_type": "error",
     "traceback": [
      "\u001B[31m---------------------------------------------------------------------------\u001B[39m",
      "\u001B[31mKeyboardInterrupt\u001B[39m                         Traceback (most recent call last)",
      "\u001B[36mCell\u001B[39m\u001B[36m \u001B[39m\u001B[32mIn[19]\u001B[39m\u001B[32m, line 2\u001B[39m\n\u001B[32m      1\u001B[39m vae = VAE(input_size=\u001B[32m384\u001B[39m, latent_dims=\u001B[32m48\u001B[39m).to(device)\n\u001B[32m----> \u001B[39m\u001B[32m2\u001B[39m vae = \u001B[43mtrain\u001B[49m\u001B[43m(\u001B[49m\u001B[43mvae\u001B[49m\u001B[43m,\u001B[49m\u001B[43m \u001B[49m\u001B[43mloader\u001B[49m\u001B[43m,\u001B[49m\u001B[43m \u001B[49m\u001B[43mdevice\u001B[49m\u001B[43m,\u001B[49m\u001B[43m \u001B[49m\u001B[43mepochs\u001B[49m\u001B[43m \u001B[49m\u001B[43m=\u001B[49m\u001B[43m \u001B[49m\u001B[32;43m50\u001B[39;49m\u001B[43m)\u001B[49m\n",
      "\u001B[36mFile \u001B[39m\u001B[32mD:\\Personal\\Computer Science\\Variational Autoencoders\\VAE.py:116\u001B[39m, in \u001B[36mtrain\u001B[39m\u001B[34m(model, data_loader, device, epochs)\u001B[39m\n\u001B[32m    112\u001B[39m batch_pbar = tqdm(data_loader, desc=\u001B[33mf\u001B[39m\u001B[33m\"\u001B[39m\u001B[33mEpoch \u001B[39m\u001B[38;5;132;01m{\u001B[39;00mepoch\u001B[38;5;250m \u001B[39m+\u001B[38;5;250m \u001B[39m\u001B[32m1\u001B[39m\u001B[38;5;132;01m}\u001B[39;00m\u001B[33m/\u001B[39m\u001B[38;5;132;01m{\u001B[39;00mepochs\u001B[38;5;132;01m}\u001B[39;00m\u001B[33m\"\u001B[39m, leave=\u001B[38;5;28;01mFalse\u001B[39;00m)\n\u001B[32m    114\u001B[39m \u001B[38;5;28;01mfor\u001B[39;00m x, y \u001B[38;5;129;01min\u001B[39;00m batch_pbar:\n\u001B[32m    115\u001B[39m     \u001B[38;5;66;03m# Move data to the specified device (e.g., GPU)\u001B[39;00m\n\u001B[32m--> \u001B[39m\u001B[32m116\u001B[39m     x = x.to(device)\n\u001B[32m    117\u001B[39m     y = y.to(device)\n\u001B[32m    119\u001B[39m     \u001B[38;5;66;03m# Forward pass\u001B[39;00m\n",
      "\u001B[31mKeyboardInterrupt\u001B[39m: "
     ]
    }
   ],
   "execution_count": 19
  }
 ],
 "metadata": {
  "kernelspec": {
   "display_name": "Python 3",
   "language": "python",
   "name": "python3"
  },
  "language_info": {
   "codemirror_mode": {
    "name": "ipython",
    "version": 2
   },
   "file_extension": ".py",
   "mimetype": "text/x-python",
   "name": "python",
   "nbconvert_exporter": "python",
   "pygments_lexer": "ipython2",
   "version": "2.7.6"
  }
 },
 "nbformat": 4,
 "nbformat_minor": 5
}
